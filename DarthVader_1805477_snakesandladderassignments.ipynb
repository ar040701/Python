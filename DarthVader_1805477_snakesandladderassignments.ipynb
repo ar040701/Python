{
 "cells": [
  {
   "cell_type": "code",
   "execution_count": 1,
   "metadata": {},
   "outputs": [],
   "source": [
    "import random\n",
    "import sys\n",
    "import time\n",
    "delay=1\n",
    "mx = 100\n",
    "snakes = {17 : 7, 54 : 34, 62 : 19, 98 : 79}\n",
    "ladders = {3 : 38, 24 : 33, 42 : 93, 72 : 84}"
   ]
  },
  {
   "cell_type": "code",
   "execution_count": 2,
   "metadata": {},
   "outputs": [],
   "source": [
    "def message():\n",
    "    print(\"#####Welcome to Snakes & Ladder Game#####\")"
   ]
  },
  {
   "cell_type": "code",
   "execution_count": 3,
   "metadata": {},
   "outputs": [],
   "source": [
    "def get_player():\n",
    "    Player1 = input(\"Please enter a name for first player: \")\n",
    "    Player2= input(\"Please enter a name for second player: \")\n",
    "    print(\"##### Lets Start the game #####\")\n",
    "    return Player1, Player2"
   ]
  },
  {
   "cell_type": "code",
   "execution_count": 4,
   "metadata": {},
   "outputs": [],
   "source": [
    "def dice_value():\n",
    "    time.sleep(delay)\n",
    "    dice = random.randint(1, 6)\n",
    "    print(\"You got a {}\".format(dice))\n",
    "    return dice"
   ]
  },
  {
   "cell_type": "code",
   "execution_count": 5,
   "metadata": {},
   "outputs": [],
   "source": [
    "def snake_bite(old_value, current_value, Player):\n",
    "    print( Player + \" got a snake bite. your position falls from \" + str(old_value) + \" to \" + str(current_value))"
   ]
  },
  {
   "cell_type": "code",
   "execution_count": 6,
   "metadata": {},
   "outputs": [],
   "source": [
    "def ladder_jump(old_value, current_value, Player):\n",
    "    print( Player + \" climbed the ladder from \" + str(old_value) + \" to \" + str(current_value))\n"
   ]
  },
  {
   "cell_type": "code",
   "execution_count": 7,
   "metadata": {},
   "outputs": [],
   "source": [
    "def snake_ladder(Player, current_value, dice):\n",
    "    time.sleep(delay)\n",
    "    old_value = current_value\n",
    "    current_value = current_value +dice\n",
    "\n",
    "    if current_value > mx:\n",
    "        print(\"You need \" + str(mx - old_value) + \" to win this game. Keep trying.\")\n",
    "        return old_value\n",
    "    \n",
    "    print( \" Your final position is \" +  str(current_value)+\"\\n\")\n",
    "    if current_value in snakes:\n",
    "        final_value = snakes.get(current_value)\n",
    "        snake_bite(current_value, final_value, Player)\n",
    "\n",
    "    elif current_value in ladders:\n",
    "        final_value = ladders.get(current_value)\n",
    "        ladder_jump(current_value, final_value, Player)\n",
    "\n",
    "    else:\n",
    "        final_value = current_value\n",
    "\n",
    "    return final_value"
   ]
  },
  {
   "cell_type": "code",
   "execution_count": 8,
   "metadata": {},
   "outputs": [],
   "source": [
    "def win(Player, position):\n",
    "    time.sleep(delay)\n",
    "    if mx == position:\n",
    "        print(Player + \" won the game.\")\n",
    "        print(\"\\n####Game succesfully Finished####\\n\")\n",
    "        sys.exit()"
   ]
  },
  {
   "cell_type": "markdown",
   "metadata": {},
   "source": []
  },
  {
   "cell_type": "code",
   "execution_count": 9,
   "metadata": {},
   "outputs": [
    {
     "name": "stdout",
     "output_type": "stream",
     "text": [
      "#####Welcome to Snakes & Ladder Game#####\n",
      "Please enter a name for first player: a\n",
      "Please enter a name for second player: b\n",
      "##### Lets Start the game #####\n",
      "a:20\n",
      " Your final position is 20\n",
      "\n",
      "b:20\n",
      " Your final position is 20\n",
      "\n",
      "a:20\n",
      " Your final position is 40\n",
      "\n",
      "b:20\n",
      " Your final position is 40\n",
      "\n",
      "a:20\n",
      " Your final position is 60\n",
      "\n",
      "b:20\n",
      " Your final position is 60\n",
      "\n",
      "a:20\n",
      " Your final position is 80\n",
      "\n",
      "b:20\n",
      " Your final position is 80\n",
      "\n",
      "a:19\n",
      " Your final position is 99\n",
      "\n",
      "b:19\n",
      " Your final position is 99\n",
      "\n",
      "a:5\n",
      "You need 1 to win this game. Keep trying.\n",
      " Your final position is 99\n",
      "\n",
      "b:roll\n",
      "You got a 3\n",
      "You need 1 to win this game. Keep trying.\n",
      "a:quit\n",
      " b won \n",
      "#### Game Succesfully Finished ####\n"
     ]
    },
    {
     "ename": "SystemExit",
     "evalue": "0",
     "output_type": "error",
     "traceback": [
      "An exception has occurred, use %tb to see the full traceback.\n",
      "\u001b[1;31mSystemExit\u001b[0m\u001b[1;31m:\u001b[0m 0\n"
     ]
    },
    {
     "name": "stderr",
     "output_type": "stream",
     "text": [
      "C:\\Users\\raj07\\anaconda3\\lib\\site-packages\\IPython\\core\\interactiveshell.py:3351: UserWarning: To exit: use 'exit', 'quit', or Ctrl-D.\n",
      "  warn(\"To exit: use 'exit', 'quit', or Ctrl-D.\", stacklevel=1)\n"
     ]
    }
   ],
   "source": [
    "def start():\n",
    "    message()\n",
    "    time.sleep(delay)\n",
    "    Player1, Player2 = get_player()\n",
    "    time.sleep(delay)\n",
    "    Player1_current_position = 0\n",
    "    Player2_current_position = 0\n",
    "\n",
    "    while True:\n",
    "        x=input(Player1+\":\")\n",
    "        if x==\"quit\":\n",
    "            print(\" {} won \".format(Player2))\n",
    "            print(\"#### Game Succesfully Finished ####\")\n",
    "            sys.exit(0)\n",
    "        elif x.isnumeric():\n",
    "            if int(x)>=1 and int(x)<=20:\n",
    "                old_value = Player1_current_position\n",
    "                Player1_current_position+=int(x)\n",
    "            else:\n",
    "                print(\"invalid input\")\n",
    "            if Player1_current_position > mx:\n",
    "                Player1_current_position=old_value\n",
    "                print(\"You need \" + str(mx - old_value) + \" to win this game. Keep trying.\")\n",
    "                \n",
    "            if Player1_current_position == mx:\n",
    "                print(Player1+\" won the game \")\n",
    "                print(\" #### Game Succesfully Finished ####\")\n",
    "                break\n",
    "            \n",
    "            if Player1_current_position in snakes:\n",
    "                final_value = snakes.get(Player1_current_position)\n",
    "                snake_bite(Player1_current_position, final_value, Player1)\n",
    "                Player1_current_position=final_value\n",
    "\n",
    "            elif Player1_current_position in ladders:\n",
    "                final_value = ladders.get(Player1_current_position)\n",
    "                ladder_jump(Player1_current_position, final_value, Player1)\n",
    "                Player1_current_position=final_value\n",
    "\n",
    "            else:\n",
    "                final_value =Player1_current_position\n",
    "\n",
    "            print( \" Your final position is \" +  str(Player1_current_position)+\"\\n\")\n",
    "        else:\n",
    "            time.sleep(delay)\n",
    "            dice = dice_value()\n",
    "            time.sleep(delay)\n",
    "            Player1_current_position = snake_ladder(Player1, Player1_current_position, dice)\n",
    "\n",
    "            win(Player1, Player1_current_position)\n",
    " \n",
    "        x=input(Player2+\":\")\n",
    "        if x==\"quit\":\n",
    "            print(\" {} won \".format(Player1))\n",
    "            print(\"#### Game Succesfully Finished ####\")\n",
    "            sys.exit(0)\n",
    "        elif x.isnumeric():\n",
    "            if int(x)>=1 and int(x)<=20:\n",
    "                old_value = Player2_current_position\n",
    "                Player2_current_position+=int(x)\n",
    "            else:\n",
    "                print(\"invalid input\")\n",
    "            if Player2_current_position > mx:\n",
    "                Player2_current_position=old_value\n",
    "                print(\"You need \" + str(mx - old_value) + \" to win this game. Keep trying.\")\n",
    "            if Player2_current_position == mx:\n",
    "                print(Player2+\" won the game \")\n",
    "                print(\" #### Game Succesfully Finished ####\")\n",
    "                break\n",
    "            \n",
    "            if Player2_current_position in snakes:\n",
    "                final_value = snakes.get(Player2_current_position)\n",
    "                snake_bite(Player2_current_position, final_value, Player2)\n",
    "                Player2_current_position=final_value\n",
    "\n",
    "            elif Player2_current_position in ladders:\n",
    "                final_value = ladders.get(Player2_current_position)\n",
    "                ladder_jump(Player2_current_position, final_value, Player2)\n",
    "                Player2_current_position=final_value\n",
    "\n",
    "            else:\n",
    "                final_value =Player2_current_position\n",
    "\n",
    "            print( \" Your final position is \" +  str(Player2_current_position)+\"\\n\")\n",
    "        else:       \n",
    "            dice = dice_value()\n",
    "            time.sleep(delay)\n",
    "            Player2_current_position = snake_ladder(Player2, Player2_current_position, dice)\n",
    "\n",
    "            win(Player2, Player2_current_position)\n",
    "        \n",
    "if __name__ == \"__main__\":\n",
    "    start()"
   ]
  },
  {
   "cell_type": "code",
   "execution_count": null,
   "metadata": {},
   "outputs": [],
   "source": []
  }
 ],
 "metadata": {
  "kernelspec": {
   "display_name": "Python 3",
   "language": "python",
   "name": "python3"
  },
  "language_info": {
   "codemirror_mode": {
    "name": "ipython",
    "version": 3
   },
   "file_extension": ".py",
   "mimetype": "text/x-python",
   "name": "python",
   "nbconvert_exporter": "python",
   "pygments_lexer": "ipython3",
   "version": "3.8.3"
  }
 },
 "nbformat": 4,
 "nbformat_minor": 4
}
